{
 "cells": [
  {
   "cell_type": "code",
   "execution_count": 6,
   "source": [
    "import re\r\n",
    "\r\n",
    "emails = '''\r\n",
    "leonardo@thebridgeschool.tech\r\n",
    "leo.sanchez@unicomplutense.es\r\n",
    "leo-05-1997@mi-correo.net\r\n",
    "'''"
   ],
   "outputs": [
    {
     "output_type": "stream",
     "name": "stdout",
     "text": [
      "<re.Match object; span=(1, 30), match='leonardo@thebridgeschool.tech'>\n",
      "<re.Match object; span=(31, 60), match='leo.sanchez@unicomplutense.es'>\n",
      "<re.Match object; span=(61, 86), match='leo-05-1997@mi-correo.net'>\n"
     ]
    }
   ],
   "metadata": {}
  }
 ],
 "metadata": {
  "orig_nbformat": 4,
  "language_info": {
   "name": "python",
   "version": "3.8.8",
   "mimetype": "text/x-python",
   "codemirror_mode": {
    "name": "ipython",
    "version": 3
   },
   "pygments_lexer": "ipython3",
   "nbconvert_exporter": "python",
   "file_extension": ".py"
  },
  "kernelspec": {
   "name": "python3",
   "display_name": "Python 3.8.8 64-bit"
  },
  "interpreter": {
   "hash": "1baa965d5efe3ac65b79dfc60c0d706280b1da80fedb7760faf2759126c4f253"
  }
 },
 "nbformat": 4,
 "nbformat_minor": 2
}