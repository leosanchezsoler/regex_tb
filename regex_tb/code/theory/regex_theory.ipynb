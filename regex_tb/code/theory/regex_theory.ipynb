{
 "cells": [
  {
   "cell_type": "markdown",
   "source": [
    "# REGEX\r\n",
    "## (Regular Expressions)\r\n",
    "![](img/regex_cover.png)\r\n",
    "\r\n",
    "Los datos no siempre están organizados, formateados ni estructurados de forma homogénea.\r\n",
    "\r\n",
    "Una parte importante del trabajo de un _Data Scientist_ consiste en limpiar los datos **(Data Cleaning)**\r\n",
    "\r\n",
    "Para ello, existen técnicas como **Regex**\r\n",
    "\r\n",
    "Las expresiones regulares están conformadas por secuencias de caracteres que nos permiten encontrar patrones de búsqueda.\r\n",
    "\r\n",
    "# [¡VAMOS A ELLO!](https://regex101.com/)"
   ],
   "metadata": {}
  },
  {
   "cell_type": "code",
   "execution_count": null,
   "source": [
    "import re\r\n",
    "\r\n",
    "text_to_search = '''\r\n",
    "abcdefghijklmnopqurtuvwxyz\r\n",
    "ABCDEFGHIJKLMNOPQRSTUVWXYZ\r\n",
    "1234567890\r\n",
    "Ha HaHa\r\n",
    "MetaCharacters (Need to be escaped):\r\n",
    ". ^ $ * + ? { } [ ] \\ | ( )\r\n",
    "leosanchez.com\r\n",
    "321-555-4321\r\n",
    "123.555.1234\r\n",
    "123*555*1234\r\n",
    "800-555-1234\r\n",
    "900-555-1234\r\n",
    "Mr. Schafer\r\n",
    "Mr Smith\r\n",
    "Ms Davis\r\n",
    "Mrs. Robinson\r\n",
    "Mr. T\r\n",
    "\r\n",
    "cat\r\n",
    "mat\r\n",
    "pat\r\n",
    "bat \r\n",
    "'''\r\n",
    "\r\n",
    "sentence = 'Start a sentence and then bring it to an end'"
   ],
   "outputs": [],
   "metadata": {}
  },
  {
   "cell_type": "markdown",
   "source": [
    "## Utilizamos las raw_strings para obtener la literalidad del texto:\r\n",
    "\r\n",
    "### `print(r'\\tTabulador')`"
   ],
   "metadata": {}
  },
  {
   "cell_type": "code",
   "execution_count": null,
   "source": [
    "print('Tabulador sin raw string: \\tTabulador')\r\n",
    "print(r'Tabulador con raw string: \\tTabulador')"
   ],
   "outputs": [],
   "metadata": {}
  },
  {
   "cell_type": "markdown",
   "source": [
    "### Buscamos el patrón `abc` en el texto\r\n",
    "\r\n",
    "Para ello utilizamos:\r\n",
    "- `re.compile()`: para introducir el patrón que queremos buscar\r\n",
    "- La función `finditer()`: para buscar el patrón en nuestro texto\r\n",
    "- Iteramos sobre la búsqueda"
   ],
   "metadata": {}
  },
  {
   "cell_type": "code",
   "execution_count": null,
   "source": [
    "pattern = re.compile(r'abc')\r\n",
    "\r\n",
    "matches = pattern.finditer(text_to_search)\r\n",
    "\r\n",
    "for match in matches:\r\n",
    "    print(match)\r\n",
    "\r\n",
    "\r\n",
    "# el span es el índice de inicio y final de la coincidencia.\r\n",
    "# gracias al span, podemos utilizar las técnicas de string slicing\r\n",
    "# en python para localizarlo\r\n",
    "\r\n",
    "print(text_to_search[1:4])"
   ],
   "outputs": [],
   "metadata": {}
  },
  {
   "cell_type": "markdown",
   "source": [
    "### Hay que tener en cuenta que cuando específicamos el pattern, se busca la literalidad de ese patrón.\r\n",
    "Por ejemplo, si queremos buscar las letras en distinto orden..."
   ],
   "metadata": {}
  },
  {
   "cell_type": "code",
   "execution_count": null,
   "source": [
    "new_pattern = re.compile(r'cba')\r\n",
    "new_matches = new_pattern.finditer(text_to_search)\r\n",
    "\r\n",
    "for match in new_matches:\r\n",
    "    print(match) # no se muestra nada por pantalla "
   ],
   "outputs": [],
   "metadata": {}
  },
  {
   "cell_type": "markdown",
   "source": [
    "## Metacaracteres\r\n",
    "Son aquellos caracteres que no son alfanuméricos:\r\n",
    "- Signos de puntuación, exclamación y admiración\r\n",
    "\r\n",
    "Si queremos obtenerlos, tenemos que \"escaparlos\""
   ],
   "metadata": {}
  },
  {
   "cell_type": "code",
   "execution_count": null,
   "source": [
    "# Como veis, aquí se muestran prácticamente todos los caracteres.\r\n",
    "pattern = re.compile(r'.')\r\n",
    "matches = pattern.finditer(text_to_search)\r\n",
    "\r\n",
    "for match in matches:\r\n",
    "    print(match) "
   ],
   "outputs": [],
   "metadata": {}
  },
  {
   "cell_type": "markdown",
   "source": [
    "#### Para escaparlos, tienen que ir precedidos de la barra invertida(`\\`)"
   ],
   "metadata": {}
  },
  {
   "cell_type": "code",
   "execution_count": null,
   "source": [
    "pattern = re.compile(r'\\.')\r\n",
    "matches = pattern.finditer(text_to_search)\r\n",
    "\r\n",
    "for match in matches:\r\n",
    "    print(match)"
   ],
   "outputs": [],
   "metadata": {}
  },
  {
   "cell_type": "markdown",
   "source": [
    "Para buscar una página web:"
   ],
   "metadata": {}
  },
  {
   "cell_type": "code",
   "execution_count": null,
   "source": [
    "pattern = re.compile(r'leosanchez\\.com')\r\n",
    "\r\n",
    "matches = pattern.finditer(text_to_search)\r\n",
    "\r\n",
    "for match in matches:\r\n",
    "    print(match)"
   ],
   "outputs": [],
   "metadata": {}
  },
  {
   "cell_type": "markdown",
   "source": [
    "Lo realmente interesante de regex no es encontrar simplemente una página web o una frase concreta, sino que nos ayuda a encontrar una serie de patrones en los textos.\r\n",
    "\r\n",
    "En este documento podemos ver las principales expresiones regulares para encontrar texto: `snippets.txt`"
   ],
   "metadata": {}
  },
  {
   "cell_type": "code",
   "execution_count": null,
   "source": [
    "pattern = re.compile(r'\\S')\r\n",
    "\r\n",
    "matches = pattern.finditer(text_to_search)\r\n",
    "\r\n",
    "for match in matches:\r\n",
    "    print(match)"
   ],
   "outputs": [],
   "metadata": {}
  },
  {
   "cell_type": "markdown",
   "source": [
    "## Anclas\r\n",
    "\r\n",
    "Las anclas no buscan caracteres en concreto, pero delimitan nuesrta búsqueda."
   ],
   "metadata": {}
  },
  {
   "cell_type": "markdown",
   "source": [
    "Word Boundaries `\\b`: está compuesto por los espacios, tabuladores, nuevas líneas y caracteres no alfanuméricos."
   ],
   "metadata": {}
  },
  {
   "cell_type": "code",
   "execution_count": null,
   "source": [
    "pattern = re.compile(r'\\bHa')\r\n",
    "\r\n",
    "matches = pattern.finditer(text_to_search)\r\n",
    "\r\n",
    "for match in matches:\r\n",
    "    print(match)"
   ],
   "outputs": [],
   "metadata": {}
  },
  {
   "cell_type": "markdown",
   "source": [
    "No word boundaries `\\B`: lo contrario\r\n",
    "\r\n",
    "Muestra el último Ha, porque delante no tiene los boundaries"
   ],
   "metadata": {}
  },
  {
   "cell_type": "code",
   "execution_count": null,
   "source": [
    "pattern = re.compile(r'\\BHa')\r\n",
    "\r\n",
    "matches = pattern.finditer(text_to_search)\r\n",
    "\r\n",
    "for match in matches:\r\n",
    "    print(match)"
   ],
   "outputs": [],
   "metadata": {}
  },
  {
   "cell_type": "markdown",
   "source": [
    "### `^` Busca solo el principio del string"
   ],
   "metadata": {}
  },
  {
   "cell_type": "code",
   "execution_count": null,
   "source": [
    "pattern = re.compile(r'^Start')\r\n",
    "\r\n",
    "matches = pattern.finditer(sentence)\r\n",
    "\r\n",
    "for match in matches:\r\n",
    "    print(match)"
   ],
   "outputs": [],
   "metadata": {}
  },
  {
   "cell_type": "markdown",
   "source": [
    "### `$` Solo busca el final del string"
   ],
   "metadata": {}
  },
  {
   "cell_type": "code",
   "execution_count": null,
   "source": [
    "pattern = re.compile(r'end$')\r\n",
    "\r\n",
    "matches = pattern.finditer(sentence)\r\n",
    "\r\n",
    "for match in matches:\r\n",
    "    print(match)"
   ],
   "outputs": [],
   "metadata": {}
  },
  {
   "cell_type": "code",
   "execution_count": null,
   "source": [
    "pattern = re.compile(r'a$')\r\n",
    "\r\n",
    "matches = pattern.finditer(text_to_search)\r\n",
    "\r\n",
    "for match in matches:\r\n",
    "    print(match)"
   ],
   "outputs": [],
   "metadata": {}
  },
  {
   "cell_type": "markdown",
   "source": [
    "## TIME FOR ACTION\r\n",
    "\r\n",
    "A continuación, vamos a tratar de obtener los números de teléfono.\r\n",
    "\r\n",
    "Como podemos ver en el texto, el número de teléfono sigue la misma estructura: \r\n",
    "- 3 números\r\n",
    "- signo de puntuación \r\n",
    "- 3 números\r\n",
    "- signo de puntuación\r\n",
    "- 4 números"
   ],
   "metadata": {}
  },
  {
   "cell_type": "code",
   "execution_count": null,
   "source": [
    "pattern = re.compile(r'\\d\\d\\d.\\d\\d\\d.\\d\\d\\d\\d')\r\n",
    "\r\n",
    "matches = pattern.finditer(text_to_search)\r\n",
    "\r\n",
    "for match in matches:\r\n",
    "    print(match)"
   ],
   "outputs": [],
   "metadata": {}
  },
  {
   "cell_type": "markdown",
   "source": [
    "### Abrimos `fake_info.txt` para empezar a trabajar"
   ],
   "metadata": {}
  },
  {
   "cell_type": "code",
   "execution_count": null,
   "source": [
    "with open('data/fake_info.txt', 'r') as f:\r\n",
    "    contents = f.read()"
   ],
   "outputs": [],
   "metadata": {}
  },
  {
   "cell_type": "markdown",
   "source": [
    "Como hemos visto, el código de arriba nos ha permitido encontrar la secuencia de números con cualquier signo de puntuación, pero pongamos que queremos obtener solamente los números de teléfono separados por un punto o un guion"
   ],
   "metadata": {}
  },
  {
   "cell_type": "code",
   "execution_count": null,
   "source": [
    "pattern = re.compile(r'\\d\\d\\d[-.]\\d\\d\\d[-.]\\d\\d\\d\\d')\r\n",
    "\r\n",
    "matches = pattern.finditer(contents)\r\n",
    "\r\n",
    "for match in matches:\r\n",
    "    print(match)"
   ],
   "outputs": [],
   "metadata": {}
  },
  {
   "cell_type": "markdown",
   "source": [
    "## Character sets\r\n",
    "Sirven para concretar nuestra búsqueda.\r\n",
    "\r\n",
    "#### ¡CUIDADO! En ocasiones suele haber confusión con los character sets, porque no cogen más de un elemento."
   ],
   "metadata": {}
  },
  {
   "cell_type": "code",
   "execution_count": null,
   "source": [
    "# Para encontrar todos los números que empiecen por centenas:\r\n",
    "# 800 - 900\r\n",
    "\r\n",
    "pattern = re.compile(r'[89]00[-.]\\d\\d\\d[-.]\\d\\d\\d\\d')\r\n",
    "\r\n",
    "matches = pattern.finditer(text_to_search)\r\n",
    "\r\n",
    "for match in matches:\r\n",
    "    print(match)"
   ],
   "outputs": [],
   "metadata": {}
  },
  {
   "cell_type": "markdown",
   "source": [
    "## Los guiones no solamente sirven para encontrar ese caracter especial, sino que además nos permiten establecer rangos\r\n",
    "\r\n",
    "Por ejemplo, para mostrar los números entre el 1 y el 5 de todo el texto"
   ],
   "metadata": {}
  },
  {
   "cell_type": "code",
   "execution_count": null,
   "source": [
    "pattern = re.compile(r'[1-5]')\r\n",
    "\r\n",
    "matches = pattern.finditer(text_to_search)\r\n",
    "\r\n",
    "for match in matches:\r\n",
    "    print(match)"
   ],
   "outputs": [],
   "metadata": {}
  },
  {
   "cell_type": "markdown",
   "source": [
    "### Para Mostrar letras mayúsculas y minúsculas, basta con poner los rangos juntos.\r\n"
   ],
   "metadata": {}
  },
  {
   "cell_type": "code",
   "execution_count": null,
   "source": [
    "pattern = re.compile(r'[a-zA-Z]')\r\n",
    "\r\n",
    "matches = pattern.finditer(text_to_search)\r\n",
    "\r\n",
    "for match in matches:\r\n",
    "    print(match)"
   ],
   "outputs": [],
   "metadata": {}
  },
  {
   "cell_type": "markdown",
   "source": [
    "## Importante \r\n",
    "Al poner el símbolo `^` dentro de los corchetes `[]`, significa que **NO** queremos lo que está dentro de él.\r\n",
    "\r\n",
    "En este caso, al ejecutar, se muestran solo los caracteres numéricos, los espacios en blanco, los saltos de línea y los caracteres numéricos.\r\n",
    "\r\n",
    "**Se niega el set**"
   ],
   "metadata": {}
  },
  {
   "cell_type": "code",
   "execution_count": null,
   "source": [
    "pattern = re.compile(r'[^a-zA-Z]')\r\n",
    "\r\n",
    "matches = pattern.finditer(text_to_search)\r\n",
    "\r\n",
    "for match in matches:\r\n",
    "    print(match)"
   ],
   "outputs": [],
   "metadata": {}
  },
  {
   "cell_type": "markdown",
   "source": [
    "## Búsquedas de patrones en los textos \r\n",
    "Pongamos que queremos recoger palabras terminadas en at, excepto **bat**\r\n",
    "Especificamos que no queremos los valores que empiecen por b"
   ],
   "metadata": {}
  },
  {
   "cell_type": "code",
   "execution_count": null,
   "source": [
    "pattern = re.compile(r'[^b]at')\r\n",
    "\r\n",
    "matches = pattern.finditer(text_to_search)\r\n",
    "\r\n",
    "for match in matches:\r\n",
    "    print(match)"
   ],
   "outputs": [],
   "metadata": {}
  },
  {
   "cell_type": "markdown",
   "source": [
    "## Rangos `{}`\r\n",
    "Como vemos en snippets.txt, las llaves nos permiten establecer rangos. \r\n",
    "\r\n",
    "Volviendo al ejemplo de los números de teléfono, otra forma de obtener los patrones"
   ],
   "metadata": {}
  },
  {
   "cell_type": "code",
   "execution_count": null,
   "source": [
    "pattern = re.compile(r'\\d{3}.\\d{3}.\\d{4}')\r\n",
    "\r\n",
    "matches = pattern.finditer(text_to_search)\r\n",
    "\r\n",
    "for match in matches:\r\n",
    "    print(match)"
   ],
   "outputs": [],
   "metadata": {}
  },
  {
   "cell_type": "code",
   "execution_count": null,
   "source": [
    "## Este ejemplo nos vale porque sabemos exactamente el patrón que se reproduce.\r\n",
    "\r\n",
    "pattern1 = re.compile(r'Mr\\.')\r\n",
    "\r\n",
    "matches = pattern1.finditer(text_to_search)\r\n",
    "\r\n",
    "for match in matches:\r\n",
    "    print(match)\r\n",
    "\r\n",
    "# Aquí no nos está dando lo que queremos. Solo nos da la secuencia Mr."
   ],
   "outputs": [],
   "metadata": {}
  },
  {
   "cell_type": "markdown",
   "source": [
    "## Operador `?` \r\n",
    "Nos sirve para añadir 0 o 1 a nuestra selección. Así se va a contemplar lo que hay un espacio después"
   ],
   "metadata": {}
  },
  {
   "cell_type": "code",
   "execution_count": null,
   "source": [
    "# Aquí sí aparecen todos los Mr. independientemente de que tengan punto o no\r\n",
    "pattern2 = re.compile(r'Mr\\.?]')\r\n",
    "\r\n",
    "matches = pattern2.finditer(text_to_search)\r\n",
    "\r\n",
    "for match in matches:\r\n",
    "    print(match)"
   ],
   "outputs": [],
   "metadata": {}
  },
  {
   "cell_type": "code",
   "execution_count": null,
   "source": [
    "# Aquí sí aparecen todos los Mr. independientemente de que tengan punto o no\r\n",
    "pattern3 = re.compile(r'Mr\\.?\\s[A-Z]\\w+') # El operador + muestra si hay 1 elemento o más a la derecha de la selección\r\n",
    "\r\n",
    "matches = pattern3.finditer(text_to_search)\r\n",
    "\r\n",
    "for match in matches:\r\n",
    "    print(match)\r\n",
    "\r\n",
    "# Por eso no se imprime Mr. T"
   ],
   "outputs": [],
   "metadata": {}
  },
  {
   "cell_type": "markdown",
   "source": [
    "## Ahora sí que sí\r\n",
    "para mostrarlo todo , utilizaremos el cuantificador `*`"
   ],
   "metadata": {}
  },
  {
   "cell_type": "code",
   "execution_count": null,
   "source": [
    "pattern4 = re.compile(r'Mr\\.?\\s[A-Z]\\w*')\r\n",
    "\r\n",
    "matches = pattern4.finditer(text_to_search)\r\n",
    "\r\n",
    "for match in matches:\r\n",
    "    print(match)"
   ],
   "outputs": [],
   "metadata": {}
  },
  {
   "cell_type": "markdown",
   "source": [
    "## Grouping `()`\r\n",
    "Siguiendo con el ejemplo, para ver todos los Mr, Ms y Mrs, podemos utilizar el operador | (or)"
   ],
   "metadata": {}
  },
  {
   "cell_type": "code",
   "execution_count": null,
   "source": [
    "pattern4 = re.compile(r'(Mr|Ms|Mrs)\\.?\\s[A-Z]\\w*')\r\n",
    "\r\n",
    "matches = pattern4.finditer(text_to_search)\r\n",
    "\r\n",
    "for match in matches:\r\n",
    "    print(match)"
   ],
   "outputs": [],
   "metadata": {}
  }
 ],
 "metadata": {
  "orig_nbformat": 4,
  "language_info": {
   "name": "python",
   "version": "3.8.8",
   "mimetype": "text/x-python",
   "codemirror_mode": {
    "name": "ipython",
    "version": 3
   },
   "pygments_lexer": "ipython3",
   "nbconvert_exporter": "python",
   "file_extension": ".py"
  },
  "kernelspec": {
   "name": "python3",
   "display_name": "Python 3.8.8 64-bit"
  },
  "interpreter": {
   "hash": "1baa965d5efe3ac65b79dfc60c0d706280b1da80fedb7760faf2759126c4f253"
  }
 },
 "nbformat": 4,
 "nbformat_minor": 2
}