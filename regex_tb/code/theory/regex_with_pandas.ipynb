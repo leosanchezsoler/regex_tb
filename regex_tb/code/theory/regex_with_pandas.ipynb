{
 "cells": [
  {
   "cell_type": "markdown",
   "source": [
    "# REGEX con PANDAS\r\n",
    "\r\n",
    "Ahora vamos a echar un vistazo a un ejemplo completo de **REGEX** con pandas.\r\n",
    "\r\n",
    "Podéis ver el ejemplo completo aquí:\r\n",
    "\r\n",
    "# [Regex With Pandas](https://www.dataquest.io/blog/regular-expressions-data-scientists/)"
   ],
   "metadata": {}
  },
  {
   "cell_type": "code",
   "execution_count": 29,
   "source": [
    "import re\r\n",
    "import email # librería para gestionar mensajes de email"
   ],
   "outputs": [],
   "metadata": {}
  },
  {
   "cell_type": "code",
   "execution_count": 30,
   "source": [
    "emails = [] # Creamos una lista vacía de emails"
   ],
   "outputs": [],
   "metadata": {}
  },
  {
   "cell_type": "markdown",
   "source": [
    "## Abrimos el archivo `fake_emails.txt`"
   ],
   "metadata": {}
  },
  {
   "cell_type": "code",
   "execution_count": 31,
   "source": [
    "with open('data/fake_emails.txt', 'r') as f:\r\n",
    "    email_corpus = f.read()"
   ],
   "outputs": [],
   "metadata": {}
  },
  {
   "cell_type": "markdown",
   "source": [
    "Es el momento de comenzar a encontrar patrones en el texto para simplificar nuestra búsqueda."
   ],
   "metadata": {}
  },
  {
   "cell_type": "code",
   "execution_count": 32,
   "source": [
    "email_corpus = re.split(r\"From r\", email_corpus)\r\n",
    "email_corpus.pop(0)"
   ],
   "outputs": [
    {
     "output_type": "execute_result",
     "data": {
      "text/plain": [
       "''"
      ]
     },
     "metadata": {},
     "execution_count": 32
    }
   ],
   "metadata": {}
  },
  {
   "cell_type": "markdown",
   "source": [
    "Estamos utilizando el módulo `re` para eliminar ese patrón de texto.\r\n",
    "\r\n",
    "Esto es importante porque queremos trabajar en los correos uno por uno, iterando por ellos a través de un bucle for.\r\n",
    "Pero ¿cómo sabemos que tenemos que eliminar \"From r\"?\r\n",
    "\r\n",
    "### Muy sencillo: mirando la estructura del archivo."
   ],
   "metadata": {}
  },
  {
   "cell_type": "markdown",
   "source": [
    "## Ahora vamos a obtener todos los nombres y direcciones de correo con un bucle for"
   ],
   "metadata": {}
  },
  {
   "cell_type": "code",
   "execution_count": 33,
   "source": [
    "for item in email_corpus:\r\n",
    "    emails_dict = {}\r\n",
    "\r\n",
    "    sender = re.search(r'From:.*', item)\r\n",
    "\r\n",
    "    if sender:\r\n",
    "        s_email = re.search(r'\\w\\S*@.*\\w', sender.group())\r\n",
    "        s_name = re.search(r':.*<', sender.group())\r\n",
    "    \r\n",
    "    else:\r\n",
    "        s_email = None\r\n",
    "        s_name = None"
   ],
   "outputs": [],
   "metadata": {}
  },
  {
   "cell_type": "code",
   "execution_count": 34,
   "source": [
    "print(\"sender type: \" + str(type(sender)))\r\n",
    "print('---------------------')\r\n",
    "print(\"sender.group() type: \" + str(type(sender.group())))\r\n",
    "print('---------------------')\r\n",
    "print(\"sender: \" + str(sender))\r\n",
    "print('---------------------')\r\n",
    "print(\"sender.group(): \" + str(sender.group()))"
   ],
   "outputs": [
    {
     "output_type": "stream",
     "name": "stdout",
     "text": [
      "sender type: <class 're.Match'>\n",
      "---------------------\n",
      "sender.group() type: <class 'str'>\n",
      "---------------------\n",
      "sender: <re.Match object; span=(180, 229), match='From: \"PRINCE OBONG ELEME\" <obong_715@epatra.com>>\n",
      "---------------------\n",
      "sender.group(): From: \"PRINCE OBONG ELEME\" <obong_715@epatra.com>\n"
     ]
    }
   ],
   "metadata": {}
  },
  {
   "cell_type": "code",
   "execution_count": 35,
   "source": [
    "# Step 3A: assign email address as string to a variable.\r\n",
    "if s_email:\r\n",
    "    sender_email = s_email.group()\r\n",
    "else:\r\n",
    "    sender_email = None\r\n",
    "# Add email address to dictionary.\r\n",
    "emails_dict[\"sender_email\"] = sender_email"
   ],
   "outputs": [],
   "metadata": {}
  },
  {
   "cell_type": "code",
   "execution_count": 36,
   "source": [
    "# Step 3B: remove unwanted substrings, assign to variable.\r\n",
    "if s_name:\r\n",
    "    sender_name = re.sub(\"s*<\", \"\", re.sub(\":s*\", \"\", s_name.group()))\r\n",
    "else:\r\n",
    "    sender_name = None\r\n",
    "\r\n",
    "# Add sender's name to dictionary.\r\n",
    "emails_dict[\"sender_name\"] = sender_name"
   ],
   "outputs": [],
   "metadata": {}
  },
  {
   "cell_type": "code",
   "execution_count": 37,
   "source": [
    "print(sender_email)\r\n",
    "print(sender_name)"
   ],
   "outputs": [
    {
     "output_type": "stream",
     "name": "stdout",
     "text": [
      "obong_715@epatra.com\n",
      " \"PRINCE OBONG ELEME\" \n"
     ]
    }
   ],
   "metadata": {}
  },
  {
   "cell_type": "code",
   "execution_count": 38,
   "source": [
    "recipient = re.search(r\"To:.*\", item)"
   ],
   "outputs": [],
   "metadata": {}
  },
  {
   "cell_type": "code",
   "execution_count": 39,
   "source": [
    "if recipient is not None:\r\n",
    "    r_email = re.search(r\"wS*@.*w\", recipient.group())\r\n",
    "    r_name = re.search(r\":.*<\", recipient.group())\r\n",
    "else:\r\n",
    "    r_email = None\r\n",
    "    r_name = None"
   ],
   "outputs": [],
   "metadata": {}
  },
  {
   "cell_type": "code",
   "execution_count": 40,
   "source": [
    "if r_email:\r\n",
    "    recipient_email = r_email.group()\r\n",
    "else:\r\n",
    "    recipient_email = None\r\n",
    "\r\n",
    "emails_dict[\"recipient_email\"] = recipient_email\r\n",
    "\r\n",
    "if r_name:\r\n",
    "    recipient_name = re.sub(\"\\s*<\", \"\", re.sub(\":\\s*\", \"\", r_name.group()))\r\n",
    "else:\r\n",
    "    recipient_name = None\r\n",
    "\r\n",
    "emails_dict[\"recipient_name\"] = recipient_name"
   ],
   "outputs": [],
   "metadata": {}
  },
  {
   "cell_type": "code",
   "execution_count": 41,
   "source": [
    "for item in contents:\r\n",
    "# First two lines again so that Jupyter runs the code.\r\n",
    "    emails_dict = {}\r\n",
    "\r\n",
    "    date_field = re.search(r\"Date:.*\", item)"
   ],
   "outputs": [],
   "metadata": {}
  },
  {
   "cell_type": "code",
   "execution_count": 42,
   "source": [
    "if date_field:\r\n",
    "    date = re.search(r\"\\d+\\s\\w+\\s\\d+\", date_field.group())\r\n",
    "else:\r\n",
    "    date = None\r\n",
    "\r\n",
    "print(date_field.group())"
   ],
   "outputs": [
    {
     "output_type": "stream",
     "name": "stdout",
     "text": [
      "Date: Wed, 19 Sep 2007 13:41:32 +0000\n"
     ]
    }
   ],
   "metadata": {}
  },
  {
   "cell_type": "code",
   "execution_count": 44,
   "source": [
    "if date:\r\n",
    "    date_sent = date.group()\r\n",
    "    \r\n",
    "else:\r\n",
    "    date_sent = None\r\n",
    "\r\n",
    "emails_dict[\"date_sent\"] = date_sent"
   ],
   "outputs": [],
   "metadata": {}
  },
  {
   "cell_type": "code",
   "execution_count": 27,
   "source": [
    "pene = True\r\n",
    "if pene:\r\n",
    "    print(\"hola\")"
   ],
   "outputs": [
    {
     "output_type": "stream",
     "name": "stdout",
     "text": [
      "hola\n"
     ]
    }
   ],
   "metadata": {}
  },
  {
   "cell_type": "code",
   "execution_count": 45,
   "source": [
    "date = re.search(r\"\\d+\\s\\w+\\s\\d+\", date_field.group())\r\n",
    "\r\n",
    "# What happens when we use * instead?\r\n",
    "date_star_test = re.search(r\"\\d*\\s\\w*\\s\\d*\", date_field.group())\r\n",
    "\r\n",
    "date_sent = date.group()\r\n",
    "date_star = date_star_test.group()\r\n",
    "\r\n",
    "print(date_sent)\r\n",
    "print(date_star)"
   ],
   "outputs": [
    {
     "output_type": "stream",
     "name": "stdout",
     "text": [
      "19 Sep 2007\n",
      " 19 \n"
     ]
    }
   ],
   "metadata": {}
  },
  {
   "cell_type": "code",
   "execution_count": null,
   "source": [
    "import re\r\n",
    "import pandas as pd\r\n",
    "import email\r\n",
    "\r\n",
    "emails = []\r\n",
    "\r\n",
    "fh = open(r\"data/fake_emails.txt\", \"r\").read()\r\n",
    "\r\n",
    "\r\n",
    "# 1 Eliminamos el string \"From r\"\r\n",
    "contents = re.split(r\"From r\",fh)\r\n",
    "contents.pop(0)\r\n",
    "\r\n",
    "#Vamos creando un diccionario vacío con el que ir guardando las variables.\r\n",
    "\r\n",
    "\r\n",
    "# Guardamos el nombre y la dirección de correo de la persona que envía el correo\r\n",
    "for item in contents:\r\n",
    "    emails_dict = {}\r\n",
    "\r\n",
    "    sender = re.search(r\"From:.*\", item)\r\n",
    "\r\n",
    "    if sender:\r\n",
    "        s_email = re.search(r\"\\w\\S*@.*\\w\", sender.group())\r\n",
    "        s_name = re.search(r\":.*<\", sender.group())\r\n",
    "    else:\r\n",
    "        s_email = None\r\n",
    "        s_name = None\r\n",
    "\r\n",
    "# Utilizamos group() para obtener los strings.\r\n",
    "\r\n",
    "    if s_email:\r\n",
    "        sender_email = s_email.group()\r\n",
    "    else:\r\n",
    "        sender_email = None\r\n",
    "\r\n",
    "    emails_dict[\"sender_email\"] = sender_email\r\n",
    "\r\n",
    "\r\n",
    "\r\n",
    "    if s_name:\r\n",
    "        sender_name = re.sub(\"\\s*<\", \"\", re.sub(\":\\s*\", \"\", s_name.group()))\r\n",
    "    else:\r\n",
    "        sender_name = None\r\n",
    "\r\n",
    "    emails_dict[\"sender_name\"] = sender_name\r\n",
    "\r\n",
    "    recipient = re.search(r\"To:.*\", item)\r\n",
    "\r\n",
    "    if recipient:\r\n",
    "        r_email = re.search(r\"\\w\\S*@.*\\w\", recipient.group())\r\n",
    "        r_name = re.search(r\":.*<\", recipient.group())\r\n",
    "    else:\r\n",
    "        r_email = None\r\n",
    "        r_name = None\r\n",
    "\r\n",
    "    if r_email:\r\n",
    "        recipient_email = r_email.group()\r\n",
    "    else:\r\n",
    "        recipient_email = None\r\n",
    "    emails_dict[\"recipient_email\"] = recipient_email\r\n",
    "\r\n",
    "\r\n",
    "    if r_name:\r\n",
    "        recipient_name = re.sub(\"s*<\", \"\", re.sub(\":s*\", \"\", r_name.group()))\r\n",
    "    else:\r\n",
    "        recipient_name = None\r\n",
    "\r\n",
    "    emails_dict[\"recipient_name\"] = recipient_name\r\n",
    "\r\n",
    "    date_field = re.search(r\"Date:.*\", item)\r\n",
    "\r\n",
    "    if date_field:\r\n",
    "        date = re.search(r\"\\d+\\s\\w+\\s\\d+\", date_field.group())\r\n",
    "    else:\r\n",
    "        date = None\r\n",
    "\r\n",
    "    if date:\r\n",
    "        date_sent = date.group()\r\n",
    "    else:\r\n",
    "        date_sent = None\r\n",
    "\r\n",
    "    emails_dict[\"date_sent\"] = date_sent\r\n",
    "\r\n",
    "    subject_field = re.search(r\"Subject: .*\", item)\r\n",
    "\r\n",
    "    if subject_field:\r\n",
    "        subject = re.sub(r\"Subject: \", \"\", subject_field.group())\r\n",
    "    else:\r\n",
    "        subject = None\r\n",
    "\r\n",
    "    emails_dict[\"subject\"] = subject\r\n",
    "\r\n",
    "    # \"item\" substituted with \"email content here\" so full email not\r\n",
    "# displayed.\r\n",
    "\r\n",
    "    full_email = email.message_from_string(item)\r\n",
    "    body = full_email.get_payload()\r\n",
    "    emails_dict[\"email_body\"] = \"email body here\"\r\n",
    "\r\n",
    "    emails.append(emails_dict)\r\n",
    "# Print number of dictionaries, and hence, emails, in the list.\r\n",
    "print(\"Number of emails: \" + str(len(emails_dict)))\r\n",
    "\r\n",
    "print(\"n\")\r\n",
    "\r\n",
    "# Print first item in the emails list to see how it looks.\r\n",
    "for key, value in emails[0].items():\r\n",
    "    print(str(key) + \": \" + str(emails[0][key]))"
   ],
   "outputs": [],
   "metadata": {}
  },
  {
   "cell_type": "code",
   "execution_count": 50,
   "source": [
    "emails_df = pd.DataFrame(emails)\r\n",
    "emails_df"
   ],
   "outputs": [
    {
     "output_type": "execute_result",
     "data": {
      "text/html": [
       "<div>\n",
       "<style scoped>\n",
       "    .dataframe tbody tr th:only-of-type {\n",
       "        vertical-align: middle;\n",
       "    }\n",
       "\n",
       "    .dataframe tbody tr th {\n",
       "        vertical-align: top;\n",
       "    }\n",
       "\n",
       "    .dataframe thead th {\n",
       "        text-align: right;\n",
       "    }\n",
       "</style>\n",
       "<table border=\"1\" class=\"dataframe\">\n",
       "  <thead>\n",
       "    <tr style=\"text-align: right;\">\n",
       "      <th></th>\n",
       "      <th>sender_email</th>\n",
       "      <th>sender_name</th>\n",
       "      <th>recipient_email</th>\n",
       "      <th>recipient_name</th>\n",
       "      <th>date_sent</th>\n",
       "      <th>subject</th>\n",
       "      <th>email_body</th>\n",
       "    </tr>\n",
       "  </thead>\n",
       "  <tbody>\n",
       "    <tr>\n",
       "      <th>0</th>\n",
       "      <td>bensul2004nng@spinfinder.com</td>\n",
       "      <td>\"Mr. Ben Suleman\"</td>\n",
       "      <td>R@M</td>\n",
       "      <td>None</td>\n",
       "      <td>31 Oct 2002</td>\n",
       "      <td>URGENT ASSISTANCE /RELATIONSHIP (P)</td>\n",
       "      <td>email body here</td>\n",
       "    </tr>\n",
       "    <tr>\n",
       "      <th>1</th>\n",
       "      <td>obong_715@epatra.com</td>\n",
       "      <td>\"PRINCE OBONG ELEME\"</td>\n",
       "      <td>obong_715@epatra.com</td>\n",
       "      <td>None</td>\n",
       "      <td>31 Oct 2002</td>\n",
       "      <td>GOOD DAY TO YOU</td>\n",
       "      <td>email body here</td>\n",
       "    </tr>\n",
       "  </tbody>\n",
       "</table>\n",
       "</div>"
      ],
      "text/plain": [
       "                   sender_email           sender_name       recipient_email  \\\n",
       "0  bensul2004nng@spinfinder.com     \"Mr. Ben Suleman\"                   R@M   \n",
       "1          obong_715@epatra.com  \"PRINCE OBONG ELEME\"  obong_715@epatra.com   \n",
       "\n",
       "  recipient_name    date_sent                              subject  \\\n",
       "0           None  31 Oct 2002  URGENT ASSISTANCE /RELATIONSHIP (P)   \n",
       "1           None  31 Oct 2002                      GOOD DAY TO YOU   \n",
       "\n",
       "        email_body  \n",
       "0  email body here  \n",
       "1  email body here  "
      ]
     },
     "metadata": {},
     "execution_count": 50
    }
   ],
   "metadata": {}
  },
  {
   "cell_type": "code",
   "execution_count": null,
   "source": [],
   "outputs": [],
   "metadata": {}
  }
 ],
 "metadata": {
  "orig_nbformat": 4,
  "language_info": {
   "name": "python",
   "version": "3.8.8",
   "mimetype": "text/x-python",
   "codemirror_mode": {
    "name": "ipython",
    "version": 3
   },
   "pygments_lexer": "ipython3",
   "nbconvert_exporter": "python",
   "file_extension": ".py"
  },
  "kernelspec": {
   "name": "python3",
   "display_name": "Python 3.8.8 64-bit"
  },
  "interpreter": {
   "hash": "1baa965d5efe3ac65b79dfc60c0d706280b1da80fedb7760faf2759126c4f253"
  }
 },
 "nbformat": 4,
 "nbformat_minor": 2
}